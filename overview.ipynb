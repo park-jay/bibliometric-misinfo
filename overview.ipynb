{
 "cells": [
  {
   "cell_type": "code",
   "execution_count": 1,
   "metadata": {},
   "outputs": [],
   "source": [
    "import pandas as pd\n",
    "import os"
   ]
  },
  {
   "cell_type": "code",
   "execution_count": 32,
   "metadata": {},
   "outputs": [
    {
     "data": {
      "text/plain": [
       "4543"
      ]
     },
     "execution_count": 32,
     "metadata": {},
     "output_type": "execute_result"
    }
   ],
   "source": [
    "len(os.listdir('PeerRead/data/arxiv.cs.lg_2007-2017/train/parsed_pdfs'))"
   ]
  },
  {
   "cell_type": "code",
   "execution_count": 39,
   "metadata": {},
   "outputs": [],
   "source": [
    "all_paper=[]\n",
    "for paper in os.listdir('PeerRead/data/arxiv.cs.lg_2007-2017/train/parsed_pdfs'):\n",
    "    data=pd.read_json('PeerRead/data/arxiv.cs.lg_2007-2017/train/parsed_pdfs/' + paper).T.reset_index()\n",
    "    data=data.iloc[1:]\n",
    "    all_paper.append(data)\n",
    "\n",
    "    # break"
   ]
  },
  {
   "cell_type": "code",
   "execution_count": 43,
   "metadata": {},
   "outputs": [],
   "source": [
    "dataset=pd.concat(all_paper).reset_index(drop=True)"
   ]
  },
  {
   "cell_type": "code",
   "execution_count": 44,
   "metadata": {},
   "outputs": [
    {
     "data": {
      "text/plain": [
       "Index(['index', 'source', 'title', 'authors', 'emails', 'sections',\n",
       "       'references', 'referenceMentions', 'year', 'abstractText', 'creator'],\n",
       "      dtype='object')"
      ]
     },
     "execution_count": 44,
     "metadata": {},
     "output_type": "execute_result"
    }
   ],
   "source": [
    "dataset.columns"
   ]
  },
  {
   "cell_type": "code",
   "execution_count": 45,
   "metadata": {},
   "outputs": [
    {
     "data": {
      "text/plain": [
       "0                                              [Jan Motl]\n",
       "1       [Nurjahan Begum, Liudmila Ulanova, Hoang Anh D...\n",
       "2       [Mohammad Amin Morid, David Eccles, Olivia R. ...\n",
       "3                                      [Sébastien Bubeck]\n",
       "4                     [Ravid Shwartz-Ziv, Naftali Tishby]\n",
       "                              ...                        \n",
       "4538    [Marc Claesen, Jaak Simm, Dusan Popovic, Yves ...\n",
       "4539              [Kalina Jasinska, Nikos Karampatziakis]\n",
       "4540    [Tom Le Paine, Pooya Khorrami, Shiyu Chang, Ya...\n",
       "4541    [Mohammad Pezeshki, Linxi Fan, Aaron Courville...\n",
       "4542    [Jihun Hamm, Adam Champion, Guoxing Chen, Mikh...\n",
       "Name: authors, Length: 4543, dtype: object"
      ]
     },
     "execution_count": 45,
     "metadata": {},
     "output_type": "execute_result"
    }
   ],
   "source": [
    "dataset['authors']"
   ]
  },
  {
   "cell_type": "code",
   "execution_count": 47,
   "metadata": {},
   "outputs": [
    {
     "data": {
      "text/plain": [
       "list"
      ]
     },
     "execution_count": 47,
     "metadata": {},
     "output_type": "execute_result"
    }
   ],
   "source": []
  }
 ],
 "metadata": {
  "kernelspec": {
   "display_name": "pink-slime",
   "language": "python",
   "name": "python3"
  },
  "language_info": {
   "codemirror_mode": {
    "name": "ipython",
    "version": 3
   },
   "file_extension": ".py",
   "mimetype": "text/x-python",
   "name": "python",
   "nbconvert_exporter": "python",
   "pygments_lexer": "ipython3",
   "version": "3.10.14"
  }
 },
 "nbformat": 4,
 "nbformat_minor": 2
}
