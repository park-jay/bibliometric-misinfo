{
 "cells": [
  {
   "cell_type": "code",
   "execution_count": 47,
   "metadata": {},
   "outputs": [],
   "source": [
    "import pandas as pd\n",
    "import arxiv\n",
    "import os\n",
    "import networkx as nx\n",
    "import itertools"
   ]
  },
  {
   "cell_type": "code",
   "execution_count": 5,
   "metadata": {},
   "outputs": [],
   "source": [
    "client=arxiv.Client()"
   ]
  },
  {
   "cell_type": "code",
   "execution_count": 6,
   "metadata": {},
   "outputs": [],
   "source": [
    "search = arxiv.Search(\n",
    "  query = \"misinformation\",\n",
    "  max_results = 10000,\n",
    "  sort_by = arxiv.SortCriterion.SubmittedDate\n",
    ")"
   ]
  },
  {
   "cell_type": "code",
   "execution_count": 7,
   "metadata": {},
   "outputs": [],
   "source": [
    "results=client.results(search)"
   ]
  },
  {
   "cell_type": "code",
   "execution_count": 8,
   "metadata": {},
   "outputs": [],
   "source": [
    "all_results = list(results)"
   ]
  },
  {
   "cell_type": "code",
   "execution_count": 9,
   "metadata": {},
   "outputs": [
    {
     "data": {
      "text/plain": [
       "arxiv.Result(entry_id='http://arxiv.org/abs/2410.18866v1', updated=datetime.datetime(2024, 10, 24, 15, 51, 4, tzinfo=datetime.timezone.utc), published=datetime.datetime(2024, 10, 24, 15, 51, 4, tzinfo=datetime.timezone.utc), title='The Cat and Mouse Game: The Ongoing Arms Race Between Diffusion Models and Detection Methods', authors=[arxiv.Result.Author('Linda Laurier'), arxiv.Result.Author('Ave Giulietta'), arxiv.Result.Author('Arlo Octavia'), arxiv.Result.Author('Meade Cleti')], summary='The emergence of diffusion models has transformed synthetic media generation,\\noffering unmatched realism and control over content creation. These\\nadvancements have driven innovation across fields such as art, design, and\\nscientific visualization. However, they also introduce significant ethical and\\nsocietal challenges, particularly through the creation of hyper-realistic\\nimages that can facilitate deepfakes, misinformation, and unauthorized\\nreproduction of copyrighted material. In response, the need for effective\\ndetection mechanisms has become increasingly urgent. This review examines the\\nevolving adversarial relationship between diffusion model development and the\\nadvancement of detection methods. We present a thorough analysis of\\ncontemporary detection strategies, including frequency and spatial domain\\ntechniques, deep learning-based approaches, and hybrid models that combine\\nmultiple methodologies. We also highlight the importance of diverse datasets\\nand standardized evaluation metrics in improving detection accuracy and\\ngeneralizability. Our discussion explores the practical applications of these\\ndetection systems in copyright protection, misinformation prevention, and\\nforensic analysis, while also addressing the ethical implications of synthetic\\nmedia. Finally, we identify key research gaps and propose future directions to\\nenhance the robustness and adaptability of detection methods in line with the\\nrapid advancements of diffusion models. This review emphasizes the necessity of\\na comprehensive approach to mitigating the risks associated with AI-generated\\ncontent in an increasingly digital world.', comment='10 pages, 1 figure', journal_ref=None, doi=None, primary_category='cs.AI', categories=['cs.AI'], links=[arxiv.Result.Link('http://arxiv.org/abs/2410.18866v1', title=None, rel='alternate', content_type=None), arxiv.Result.Link('http://arxiv.org/pdf/2410.18866v1', title='pdf', rel='related', content_type=None)])"
      ]
     },
     "execution_count": 9,
     "metadata": {},
     "output_type": "execute_result"
    }
   ],
   "source": [
    "all_results[0]"
   ]
  },
  {
   "cell_type": "code",
   "execution_count": 42,
   "metadata": {},
   "outputs": [],
   "source": [
    "authorship=[]\n",
    "for authors in all_results:\n",
    "    author_list=[]\n",
    "    for i in authors.authors:\n",
    "        author_list.append(i.name)\n",
    "    authorship.append(author_list)"
   ]
  },
  {
   "cell_type": "code",
   "execution_count": 48,
   "metadata": {},
   "outputs": [
    {
     "data": {
      "text/plain": [
       "['Linda Laurier', 'Ave Giulietta', 'Arlo Octavia', 'Meade Cleti']"
      ]
     },
     "execution_count": 48,
     "metadata": {},
     "output_type": "execute_result"
    }
   ],
   "source": [
    "authorship[0]"
   ]
  },
  {
   "cell_type": "code",
   "execution_count": 49,
   "metadata": {},
   "outputs": [],
   "source": [
    "G=nx.Graph()"
   ]
  },
  {
   "cell_type": "code",
   "execution_count": 51,
   "metadata": {},
   "outputs": [],
   "source": [
    "edges=[]\n",
    "for val in authorship:\n",
    "    edges.extend(list(itertools.combinations(val, 2)))"
   ]
  },
  {
   "cell_type": "code",
   "execution_count": 55,
   "metadata": {},
   "outputs": [],
   "source": [
    "G.add_edges_from(edges)"
   ]
  },
  {
   "cell_type": "code",
   "execution_count": 56,
   "metadata": {},
   "outputs": [
    {
     "data": {
      "text/plain": [
       "4777"
      ]
     },
     "execution_count": 56,
     "metadata": {},
     "output_type": "execute_result"
    }
   ],
   "source": [
    "len(list(G.nodes))"
   ]
  },
  {
   "cell_type": "code",
   "execution_count": 57,
   "metadata": {},
   "outputs": [
    {
     "data": {
      "text/plain": [
       "[('Preslav Nakov', 0.020309882747068676),\n",
       " ('Iason Gabriel', 0.014447236180904523),\n",
       " ('Lisa Anne Hendricks', 0.014447236180904523),\n",
       " ('Sasha Brown', 0.014447236180904523),\n",
       " ('Conor Griffin', 0.014447236180904523)]"
      ]
     },
     "execution_count": 57,
     "metadata": {},
     "output_type": "execute_result"
    }
   ],
   "source": [
    "sorted(nx.degree_centrality(G).items(), key=lambda x:x[1], reverse=True)[:5]"
   ]
  }
 ],
 "metadata": {
  "kernelspec": {
   "display_name": "arxiv",
   "language": "python",
   "name": "python3"
  },
  "language_info": {
   "codemirror_mode": {
    "name": "ipython",
    "version": 3
   },
   "file_extension": ".py",
   "mimetype": "text/x-python",
   "name": "python",
   "nbconvert_exporter": "python",
   "pygments_lexer": "ipython3",
   "version": "3.10.15"
  }
 },
 "nbformat": 4,
 "nbformat_minor": 2
}
